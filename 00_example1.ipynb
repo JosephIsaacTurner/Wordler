{
 "cells": [
  {
   "cell_type": "markdown",
   "metadata": {},
   "source": [
    "### Example 1: Predicting the wordle\n",
    "\n",
    "In this example, we will use the wordle object to predict the most likely and representative word."
   ]
  },
  {
   "cell_type": "code",
   "execution_count": 21,
   "metadata": {},
   "outputs": [
    {
     "data": {
      "text/plain": [
       "'saucy'"
      ]
     },
     "metadata": {},
     "output_type": "display_data"
    }
   ],
   "source": [
    "from src.Wordle import Wordle\n",
    "\n",
    "wordle = Wordle()\n",
    "# Optional but recommended:  Exclude words from past wordles from your guesses. \n",
    "exclude_previous_answers = True\n",
    "first_guess = wordle.find_next_word(exclude_previous_answers)\n",
    "display(first_guess) # Should be 'saucy'"
   ]
  },
  {
   "cell_type": "markdown",
   "metadata": {},
   "source": [
    "Let's say you submit 'saucy' as your first guess, and you get no green letters, but a yellow letter c. \n",
    "\n",
    "You can communicate this information to the wordle object and predict the most likely next word."
   ]
  },
  {
   "cell_type": "code",
   "execution_count": 22,
   "metadata": {},
   "outputs": [
    {
     "data": {
      "text/plain": [
       "'cried'"
      ]
     },
     "metadata": {},
     "output_type": "display_data"
    }
   ],
   "source": [
    "response = '_____'\n",
    "yellow_letters = 'c'\n",
    "wordle.submit_guess(first_guess, response, yellow_letters)\n",
    "next_guess = wordle.find_next_word(exclude_previous_answers)\n",
    "display(next_guess) # Should be 'cried'"
   ]
  },
  {
   "cell_type": "markdown",
   "metadata": {},
   "source": [
    "Let's submit 'cried' as our next guess. This time we get a green letter 'c' and yellow letters 'r' and 'e'. We can communicate this like so:"
   ]
  },
  {
   "cell_type": "code",
   "execution_count": 23,
   "metadata": {},
   "outputs": [
    {
     "data": {
      "text/plain": [
       "'chore'"
      ]
     },
     "metadata": {},
     "output_type": "display_data"
    }
   ],
   "source": [
    "response = 'c____'\n",
    "yellow_letters = 're'\n",
    "wordle.submit_guess(next_guess, response, yellow_letters)\n",
    "next_guess = wordle.find_next_word(exclude_previous_answers)\n",
    "display(next_guess) # Should be 'chore'"
   ]
  },
  {
   "cell_type": "markdown",
   "metadata": {},
   "source": [
    "Now, let's try 'chore'. Congratulations, you get all green letters and win the game!"
   ]
  }
 ],
 "metadata": {
  "kernelspec": {
   "display_name": "wordle_env",
   "language": "python",
   "name": "python3"
  },
  "language_info": {
   "codemirror_mode": {
    "name": "ipython",
    "version": 3
   },
   "file_extension": ".py",
   "mimetype": "text/x-python",
   "name": "python",
   "nbconvert_exporter": "python",
   "pygments_lexer": "ipython3",
   "version": "3.11.7"
  }
 },
 "nbformat": 4,
 "nbformat_minor": 2
}
